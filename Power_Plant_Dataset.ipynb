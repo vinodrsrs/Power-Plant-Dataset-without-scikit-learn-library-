{
 "cells": [
  {
   "cell_type": "markdown",
   "metadata": {},
   "source": [
    "# Problem  Statement\n",
    "\n",
    "#### predict the net hourly electrical energy output (EP)  of the plant."
   ]
  },
  {
   "cell_type": "markdown",
   "metadata": {},
   "source": [
    "##### The dataset contains 9568 data points collected from a Combined Cycle Power Plant over 6 years (2006-2011), when the power plant was set to work with full load. Features consist of hourly average ambient variables Temperature (T), Ambient Pressure (AP), Relative Humidity (RH) and Exhaust Vacuum (V) to predict the net hourly electrical energy output (EP)  of the plant.\n"
   ]
  },
  {
   "cell_type": "code",
   "execution_count": 145,
   "metadata": {},
   "outputs": [],
   "source": [
    "import numpy  as np\n",
    "import pandas as pd"
   ]
  },
  {
   "cell_type": "code",
   "execution_count": 146,
   "metadata": {},
   "outputs": [],
   "source": [
    "df = pd.read_excel(\"C:/Users/user/Desktop/w/powerplant.xlsx\")"
   ]
  },
  {
   "cell_type": "code",
   "execution_count": 147,
   "metadata": {},
   "outputs": [],
   "source": [
    "\n",
    "df.columns = [\"Temperature\",\"Exhaust Vacuum \",\"Ambient Pressure\",\"Relative Humidity\",\"Electric Power output\"]"
   ]
  },
  {
   "cell_type": "code",
   "execution_count": 148,
   "metadata": {},
   "outputs": [
    {
     "data": {
      "text/html": [
       "<div>\n",
       "<style scoped>\n",
       "    .dataframe tbody tr th:only-of-type {\n",
       "        vertical-align: middle;\n",
       "    }\n",
       "\n",
       "    .dataframe tbody tr th {\n",
       "        vertical-align: top;\n",
       "    }\n",
       "\n",
       "    .dataframe thead th {\n",
       "        text-align: right;\n",
       "    }\n",
       "</style>\n",
       "<table border=\"1\" class=\"dataframe\">\n",
       "  <thead>\n",
       "    <tr style=\"text-align: right;\">\n",
       "      <th></th>\n",
       "      <th>Temperature</th>\n",
       "      <th>Exhaust Vacuum</th>\n",
       "      <th>Ambient Pressure</th>\n",
       "      <th>Relative Humidity</th>\n",
       "      <th>Electric Power output</th>\n",
       "    </tr>\n",
       "  </thead>\n",
       "  <tbody>\n",
       "    <tr>\n",
       "      <td>0</td>\n",
       "      <td>14.96</td>\n",
       "      <td>41.76</td>\n",
       "      <td>1024.07</td>\n",
       "      <td>73.17</td>\n",
       "      <td>463.26</td>\n",
       "    </tr>\n",
       "    <tr>\n",
       "      <td>1</td>\n",
       "      <td>25.18</td>\n",
       "      <td>62.96</td>\n",
       "      <td>1020.04</td>\n",
       "      <td>59.08</td>\n",
       "      <td>444.37</td>\n",
       "    </tr>\n",
       "    <tr>\n",
       "      <td>2</td>\n",
       "      <td>5.11</td>\n",
       "      <td>39.40</td>\n",
       "      <td>1012.16</td>\n",
       "      <td>92.14</td>\n",
       "      <td>488.56</td>\n",
       "    </tr>\n",
       "    <tr>\n",
       "      <td>3</td>\n",
       "      <td>20.86</td>\n",
       "      <td>57.32</td>\n",
       "      <td>1010.24</td>\n",
       "      <td>76.64</td>\n",
       "      <td>446.48</td>\n",
       "    </tr>\n",
       "    <tr>\n",
       "      <td>4</td>\n",
       "      <td>10.82</td>\n",
       "      <td>37.50</td>\n",
       "      <td>1009.23</td>\n",
       "      <td>96.62</td>\n",
       "      <td>473.90</td>\n",
       "    </tr>\n",
       "  </tbody>\n",
       "</table>\n",
       "</div>"
      ],
      "text/plain": [
       "   Temperature  Exhaust Vacuum   Ambient Pressure  Relative Humidity  \\\n",
       "0        14.96            41.76           1024.07              73.17   \n",
       "1        25.18            62.96           1020.04              59.08   \n",
       "2         5.11            39.40           1012.16              92.14   \n",
       "3        20.86            57.32           1010.24              76.64   \n",
       "4        10.82            37.50           1009.23              96.62   \n",
       "\n",
       "   Electric Power output  \n",
       "0                 463.26  \n",
       "1                 444.37  \n",
       "2                 488.56  \n",
       "3                 446.48  \n",
       "4                 473.90  "
      ]
     },
     "execution_count": 148,
     "metadata": {},
     "output_type": "execute_result"
    }
   ],
   "source": [
    "df.head()"
   ]
  },
  {
   "cell_type": "code",
   "execution_count": 149,
   "metadata": {},
   "outputs": [],
   "source": [
    "from sklearn.preprocessing import StandardScaler"
   ]
  },
  {
   "cell_type": "code",
   "execution_count": 150,
   "metadata": {},
   "outputs": [],
   "source": [
    "scale = StandardScaler() "
   ]
  },
  {
   "cell_type": "code",
   "execution_count": 151,
   "metadata": {},
   "outputs": [],
   "source": [
    "x = scale.fit_transform(x)"
   ]
  },
  {
   "cell_type": "code",
   "execution_count": 152,
   "metadata": {},
   "outputs": [],
   "source": [
    "def costfun(x,y,theta):\n",
    "    j = np.sum((x.dot(theta) - y)**2)/len(y)\n",
    "    \n",
    "    return j\n",
    "    "
   ]
  },
  {
   "cell_type": "code",
   "execution_count": 153,
   "metadata": {},
   "outputs": [],
   "source": [
    "def grad(x,y,theta,lr,itr):\n",
    "    c = [[0]*itr]\n",
    "    for i in range(itr):\n",
    "        pred = x.dot(theta)\n",
    "        residuls = pred - y\n",
    "        \n",
    "        partial_terms = x.T.dot(residuls)/len(y)\n",
    "        \n",
    "        theta = theta - lr * partial_terms\n",
    "        \n",
    "        c.append(costfun(x,y,theta))\n",
    "        \n",
    "    return theta,c\n",
    "        \n",
    "      \n",
    "        "
   ]
  },
  {
   "cell_type": "code",
   "execution_count": 154,
   "metadata": {},
   "outputs": [],
   "source": [
    "def r2_score(x,y,theta):\n",
    "    pred = x.dot(theta)\n",
    "    resi = pred - y\n",
    "    \n",
    "    ssr = np.sum(resi**2)\n",
    "    sst = np.sum((pred - np.mean(y))**2)\n",
    "    \n",
    "    return 1-(ssr/sst)\n",
    "    "
   ]
  },
  {
   "cell_type": "code",
   "execution_count": 155,
   "metadata": {},
   "outputs": [],
   "source": [
    "def adj_r2_score(a,N,p):\n",
    "    return 1- ((1-a)*(N-1)/(N-p-1))\n",
    "    "
   ]
  },
  {
   "cell_type": "code",
   "execution_count": 156,
   "metadata": {},
   "outputs": [],
   "source": [
    "def pred(x,theta):\n",
    "    return  x.dot(theta)"
   ]
  },
  {
   "cell_type": "code",
   "execution_count": 157,
   "metadata": {},
   "outputs": [
    {
     "name": "stdout",
     "output_type": "stream",
     "text": [
      "cost function value is      : 20.206217976366087\n",
      "*-*-*-*-*-*-*-*-*-*-*-*-*-*-*-*-*-*-*-*-*-*-*-*-*-*-*-*-*-*-*-*-*-*-*-*-*-*-*-*-\n",
      "\n",
      "\n",
      "r2_score value is           : 0.9253448374815225\n",
      "adjusted_r2_score value is  : 0.9253058000612556\n",
      "*-*-*-*-*-*-*-*-*-*-*-*-*-*-*-*-*-*-*-*-*-*-*-*-*-*-*-*-*-*-*-*-*-*-*-*-*-*-*-*-\n",
      "\n",
      "\n",
      "estimated value is :  466.6854059197665\n",
      "actual    value is :  469.25\n",
      "*-*-*-*-*-*-*-*-*-*-*-*-*-*-*-*-*-*-*-*-*-*-*-*-*-*-*-*-*-*-*-*-*-*-*-*-*-*-*-*-\n",
      "\n",
      "\n",
      "theta values are : [ 4.54329841e+02 -1.50039869e+01 -2.78397247e+00  3.43666059e-01\n",
      " -2.43881263e+00]\n"
     ]
    }
   ],
   "source": [
    "m = 6000\n",
    "xtrain = x[:m,:]\n",
    "ytrain = y[:m] \n",
    "\n",
    "xtest = x[m:,:]\n",
    "ytest = y[m:]\n",
    "\n",
    "xtrain = np.c_[np.ones(xtrain.shape[0]),xtrain]\n",
    "theta  = np.zeros(xtrain.shape[1])\n",
    "\n",
    "xtest = np.c_[np.ones(xtest.shape[0]),xtest]\n",
    "theta,clist= grad(xtrain,ytrain,theta,lr = 0.1,itr = 5000)\n",
    "print(\"cost function value is      :\",clist[-1])\n",
    "\n",
    "print(\"*-\"*40)\n",
    "print(\"\\n\")\n",
    "\n",
    "print(\"r2_score value is           :\",r2_score(xtrain,ytrain,theta))\n",
    "print(\"adjusted_r2_score value is  :\",adj_r2_score(r2_score(xtrain,ytrain,theta),len(y),xtrain.shape[1]))\n",
    "\n",
    "estimated  = pred(xtest[0],theta) \n",
    "print(\"*-\"*40)\n",
    "print(\"\\n\")\n",
    "\n",
    "print(\"estimated value is : \",estimated)\n",
    "print(\"actual    value is : \",ytest[6000])\n",
    "\n",
    "print(\"*-\"*40)\n",
    "print(\"\\n\")\n",
    "print(\"theta values are :\",theta)"
   ]
  },
  {
   "cell_type": "code",
   "execution_count": null,
   "metadata": {},
   "outputs": [],
   "source": []
  }
 ],
 "metadata": {
  "kernelspec": {
   "display_name": "Python 3",
   "language": "python",
   "name": "python3"
  },
  "language_info": {
   "codemirror_mode": {
    "name": "ipython",
    "version": 3
   },
   "file_extension": ".py",
   "mimetype": "text/x-python",
   "name": "python",
   "nbconvert_exporter": "python",
   "pygments_lexer": "ipython3",
   "version": "3.7.4"
  }
 },
 "nbformat": 4,
 "nbformat_minor": 2
}
